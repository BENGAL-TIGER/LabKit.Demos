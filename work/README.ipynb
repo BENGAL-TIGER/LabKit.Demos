{
 "cells": [
  {
   "cell_type": "markdown",
   "metadata": {
    "nteract": {
     "transient": {
      "deleting": false
     }
    }
   },
   "source": [
    "![](assets/JackJaubert,tigereyes,banners.png)"
   ]
  },
  {
   "cell_type": "markdown",
   "metadata": {},
   "source": [
    "\n",
    "<nav class=\"nav nav-fill justify-content-between\">\n",
    "  <button type=\"button\" class=\"btn btn-outline-dark nav-link position-relative mr-1\" >coding<a href=\"notebooks/coding/coding.ipynb\" class=\"stretched-link\"></a></button>\n",
    "  <button type=\"button\" class=\"btn btn-outline-dark nav-link position-relative mr-1\">thermodynamics<a href=\"notebooks/thermo/thermo.ipynb\" class=\"stretched-link\"></a></button>\n",
    "  <button type=\"button\" class=\"btn btn-outline-dark nav-link position-relative mr-1\">writing<a href=\"notebooks/writing/writing.ipynb\" class=\"stretched-link\"></a></button>\n",
    "  <button type=\"button\" class=\"btn btn-outline-dark nav-link position-relative mr-1\">jupyter<a href=\"notebooks/jupyter/jupyter.ipynb\" class=\"stretched-link\"></a></button>\n",
    "</nav>"
   ]
  },
  {
   "cell_type": "markdown",
   "metadata": {
    "nteract": {
     "transient": {
      "deleting": false
     }
    }
   },
   "source": [
    "<div class=\"mcs-bs-callout mcs-bs-callout-info\" style=\"border-left-color: #461dff;\">\n",
    "\n",
    "<h4 class=\"mb-4\">What a great time to get into some good trouble!</h4>\n",
    "\n",
    "Welcome to LabKit, a production of the BENGAL TIGER Laboratory at the University of Alabama.\n",
    "\n",
    "</div>"
   ]
  },
  {
   "cell_type": "code",
   "execution_count": null,
   "metadata": {},
   "outputs": [],
   "source": []
  }
 ],
 "metadata": {
  "kernel_info": {
   "name": "julia-1.5"
  },
  "kernelspec": {
   "display_name": "Julia 1.5.2",
   "language": "julia",
   "name": "julia-1.5"
  },
  "language_info": {
   "file_extension": ".jl",
   "mimetype": "application/julia",
   "name": "julia",
   "version": "1.5.2"
  },
  "nteract": {
   "version": "0.24.1"
  }
 },
 "nbformat": 4,
 "nbformat_minor": 4
}
