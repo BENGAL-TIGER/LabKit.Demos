{
 "cells": [
  {
   "cell_type": "markdown",
   "metadata": {
    "nteract": {
     "transient": {
      "deleting": false
     }
    }
   },
   "source": [
    "![](assets/JackJaubert,tigereyes,banners.png)"
   ]
  },
  {
   "cell_type": "markdown",
   "metadata": {
    "nteract": {
     "transient": {
      "deleting": false
     }
    }
   },
   "source": [
    "# What do you want to do today?"
   ]
  },
  {
   "cell_type": "markdown",
   "metadata": {},
   "source": [
    "$$$$\n",
    "$\\ce{H2O}$"
   ]
  },
  {
   "cell_type": "markdown",
   "metadata": {},
   "source": [
    "\\begin{equation}\n",
    "x^5\n",
    "\\end{equation}\n"
   ]
  },
  {
   "cell_type": "code",
   "execution_count": 4,
   "metadata": {},
   "outputs": [
    {
     "data": {
      "text/plain": [
       "@javascript_str (macro with 1 method)"
      ]
     },
     "execution_count": 4,
     "metadata": {},
     "output_type": "execute_result"
    }
   ],
   "source": [
    "macro javascript_str(s) display(\"text/javascript\", s); end"
   ]
  },
  {
   "cell_type": "code",
   "execution_count": 6,
   "metadata": {},
   "outputs": [
    {
     "data": {
      "application/javascript": [
       "window.MathJax = {\n",
       "  tex: {\n",
       "    tags: 'ams'\n",
       "  }\n",
       "};\n"
      ]
     },
     "metadata": {},
     "output_type": "display_data"
    }
   ],
   "source": [
    "javascript\"\"\"\n",
    "window.MathJax = {\n",
    "  tex: {\n",
    "    tags: 'ams'\n",
    "  }\n",
    "};\n",
    "\"\"\""
   ]
  },
  {
   "cell_type": "markdown",
   "metadata": {
    "nteract": {
     "transient": {
      "deleting": false
     }
    }
   },
   "source": [
    "<section class=\"toc\">\n",
    "\n",
    "## Thermodynamic Properties \n",
    "  \n",
    "1. [Given $\\ce{H2O}$ (P = $\\pu{400 kPa},$ u = $\\pu{1450 kJ/kg})$, find (1) specific volume, enthalpy, and entropy; and (2) describe the phase.](03.01⋮sbs⋮saturation_pressure_table.ipynb)      \n",
    "  <img src=\"figures/0301.png\" width=600px />  \n",
    "\n",
    "1. Given saturated vapor water at T=220 °C, find specific internal energy, specific volume, specific enthalpy, pressure, and specific entropy.    \n",
    "   <img src=\"figures/0301.png\" width=600px />  \n",
    "\n",
    "1. [Given $\\ce{H2O}, (P = \\pu{400 kPa}, u = \\pu{1450 kJ/kg})$, find (1) specific volume, enthalpy, and entropy; and (2) describe the phase.](03.01⋮sbs⋮saturation_pressure_table.ipynb)     \n",
    "   <img src=\"figures/0303_superheat_table.png\" width=600px />\n",
    "\n",
    "\n",
    "\n",
    "</section>"
   ]
  },
  {
   "cell_type": "code",
   "execution_count": null,
   "metadata": {},
   "outputs": [],
   "source": []
  }
 ],
 "metadata": {
  "kernel_info": {
   "name": "julia-1.5"
  },
  "kernelspec": {
   "display_name": "Julia 1.5.1",
   "language": "julia",
   "name": "julia-1.5"
  },
  "language_info": {
   "file_extension": ".jl",
   "mimetype": "application/julia",
   "name": "julia",
   "version": "1.5.1"
  },
  "nteract": {
   "version": "0.24.1"
  }
 },
 "nbformat": 4,
 "nbformat_minor": 4
}
