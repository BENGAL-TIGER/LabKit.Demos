{
 "cells": [
  {
   "cell_type": "markdown",
   "metadata": {
    "nteract": {
     "transient": {
      "deleting": false
     }
    }
   },
   "source": [
    "![](assets/JackJaubert,tigereyes,banners.png)"
   ]
  },
  {
   "cell_type": "markdown",
   "metadata": {},
   "source": [
    "\n",
    "<nav class=\"nav nav-fill justify-content-between\">\n",
    "  <button type=\"button\" class=\"btn btn-outline-dark nav-link position-relative mr-1\" data-toggle=\"tooltip\" data-placement=\"top\" title=\"Tooltip on top\">coding<a href=\"#Genesis\" class=\"stretched-link\"></a></button>\n",
    "  <button type=\"button\" class=\"btn btn-outline-dark nav-link position-relative mr-1\">thermodynamics<a href=\"notebooks/thermo/thermo.ipynb\" class=\"stretched-link\"></a></button>\n",
    "  <button type=\"button\" class=\"btn btn-outline-dark nav-link position-relative mr-1\">writing<a href=\"notebooks/writing/writing.ipynb\" class=\"stretched-link\"></a></button>\n",
    "  <button type=\"button\" class=\"btn btn-outline-dark nav-link position-relative mr-1\">jupyter<a href=\"notebooks/jupyter/jupyter.ipynb\" class=\"stretched-link\"></a></button>\n",
    "  <button type=\"button\" class=\"btn btn-outline-dark nav-link position-relative mr-1\">library<a href=\"notebooks/jupyter/jupyter.ipynb\" class=\"stretched-link\"></a></button>\n",
    "</nav>"
   ]
  },
  {
   "cell_type": "markdown",
   "metadata": {
    "nteract": {
     "transient": {
      "deleting": false
     }
    }
   },
   "source": [
    "<div class=\"mcs-bs-callout mcs-bs-callout-danger\">\n",
    "\n",
    "<h4 class=\"mb-4\">What a great time to get into some good trouble!</h4>\n",
    "\n",
    "Welcome to LabKit, a production of the BENGAL TIGER Laboratory at the University of Alabama.\n",
    "\n",
    "</div>"
   ]
  },
  {
   "cell_type": "markdown",
   "metadata": {},
   "source": [
    "<div class=\"card border-danger mb-3\" style=\"max-width: 18rem;\">\n",
    "  <div class=\"card-header\">Header</div>\n",
    "  <div class=\"card-body text-danger\">\n",
    "    <h5 class=\"card-title\">Danger card title</h5>\n",
    "    <p class=\"card-text\">Some quick example text to build on the card title and make up the bulk of the card's content.</p>\n",
    "  </div>"
   ]
  },
  {
   "cell_type": "markdown",
   "metadata": {},
   "source": [
    "<div class=\"card mb-3\" style=\"max-width: 540px;\">\n",
    "  <div class=\"row no-gutters\">\n",
    "    <div class=\"col-md-4\">\n",
    "      <img src=\"https://www.r-project.org/logo/Rlogo.svg\" class=\"card-img\" alt=\"...\">\n",
    "    </div>\n",
    "    <div class=\"col-md-8\">\n",
    "      <div class=\"card-body\">\n",
    "        <h5 class=\"card-title\">Card title</h5>\n",
    "        <p class=\"card-text\">This is a wider card with supporting text below as a natural lead-in to additional content. This content is a little bit longer.</p>\n",
    "        <p class=\"card-text\"><small class=\"text-muted\">Last updated 3 mins ago</small></p>\n",
    "      </div>\n",
    "    </div>\n",
    "  </div>\n",
    "</div>"
   ]
  },
  {
   "cell_type": "markdown",
   "metadata": {},
   "source": [
    "<!-- <section class=\"toc mb-050em\"> \n",
    " -->\n",
    "## About Jupyterlab \n",
    "  \n",
    "1. [Learn How to Write Markdown & LaTeX in The Jupyter Notebook](https://towardsdatascience.com/write-markdown-latex-in-the-jupyter-notebook-10985edb91fd) \n",
    "\n",
    "1. [MathJax basic tutorial and quick reference](https://math.meta.stackexchange.com/questions/5020/mathjax-basic-tutorial-and-quick-reference)\n",
    "    \n",
    "1. [The complete guide to Data Science IDE JupyterLab](http://data2art.com/Jupyterlab-en.html#jupyterlab_voyager)\n",
    "    \n",
    "1. [The Executable Book Project](https://executablebooks.org/en/latest/)\n",
    "    \n",
    "1. [Codebraid – live code in Pandoc Markdown](https://github.com/gpoore/codebraid)\n",
    "\n",
    "1. [R Markdown: The Definitive Guide](https://bookdown.org/yihui/rmarkdown/)\n",
    "\n",
    "1. [R Markdown Cookbook](https://bookdown.org/yihui/rmarkdown-cookbook/)\n",
    "\n",
    "1. [bookdown: Authoring Books and Technical Documents with R Markdown](https://bookdown.org/yihui/bookdown/)\n",
    "\n",
    "1. [R Graphics Cookbook, 2nd edition](https://r-graphics.org/)\n",
    "\n",
    "1. [Fundamentals of Data Visualization](https://clauswilke.com/dataviz/)\n",
    "\n",
    "1. [Data Visualization](https://socviz.co/)\n",
    "\n",
    "1. [Weave.jl - Scientific Reports Using Julia](http://weavejl.mpastell.com/stable/)\n",
    "\n",
    "1. []()\n",
    "\n",
    "\n",
    "<!-- </section> -->"
   ]
  }
 ],
 "metadata": {
  "kernel_info": {
   "name": "julia-1.5"
  },
  "kernelspec": {
   "display_name": "Julia 1.5.2",
   "language": "julia",
   "name": "julia-1.5"
  },
  "language_info": {
   "file_extension": ".jl",
   "mimetype": "application/julia",
   "name": "julia",
   "version": "1.5.2"
  },
  "nteract": {
   "version": "0.24.1"
  }
 },
 "nbformat": 4,
 "nbformat_minor": 4
}
