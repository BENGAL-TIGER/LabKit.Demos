{
 "cells": [
  {
   "cell_type": "markdown",
   "metadata": {
    "nteract": {
     "transient": {
      "deleting": false
     }
    }
   },
   "source": [
    "![](assets/JackJaubert,tigereyes.png)\n",
    "\n",
    "# LabKit Demos"
   ]
  },
  {
   "cell_type": "markdown",
   "metadata": {},
   "source": [
    "$\\ce{H2O}$"
   ]
  },
  {
   "cell_type": "markdown",
   "metadata": {},
   "source": [
    "$x^5$"
   ]
  },
  {
   "cell_type": "markdown",
   "metadata": {
    "nteract": {
     "transient": {
      "deleting": false
     }
    }
   },
   "source": [
    "<section class=\"toc\">\n",
    "\n",
    "## Thermodynamic Properties \n",
    "  \n",
    "1. [Given $\\ce{H2O}$ (P = $\\pu{400 kPa},$ u = $\\pu{1450 kJ/kg})$, find (1) specific volume, enthalpy, and entropy; and (2) describe the phase.](03.01⋮sbs⋮saturation_pressure_table.ipynb)      \n",
    "  <img src=\"figures/0301.png\" width=600px />  \n",
    "\n",
    "1. Given saturated vapor water at T=220 °C, find specific internal energy, specific volume, specific enthalpy, pressure, and specific entropy.    \n",
    "   <img src=\"figures/0301.png\" width=600px />  \n",
    "\n",
    "1. [Given $\\ce{H2O}, (P = \\pu{400 kPa}, u = \\pu{1450 kJ/kg})$, find (1) specific volume, enthalpy, and entropy; and (2) describe the phase.](03.01⋮sbs⋮saturation_pressure_table.ipynb)     \n",
    "   <img src=\"figures/0303_superheat_table.png\" width=600px />\n",
    "\n",
    "\n",
    "\n",
    "</section>"
   ]
  },
  {
   "cell_type": "code",
   "execution_count": null,
   "metadata": {},
   "outputs": [],
   "source": []
  }
 ],
 "metadata": {
  "kernel_info": {
   "name": "julia-1.5"
  },
  "kernelspec": {
   "display_name": "Julia 1.5.1",
   "language": "julia",
   "name": "julia-1.5"
  },
  "language_info": {
   "file_extension": ".jl",
   "mimetype": "application/julia",
   "name": "julia",
   "version": "1.5.1"
  },
  "nteract": {
   "version": "0.24.1"
  }
 },
 "nbformat": 4,
 "nbformat_minor": 4
}
