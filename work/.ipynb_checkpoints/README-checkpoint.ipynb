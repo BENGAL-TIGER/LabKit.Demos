{
 "cells": [
  {
   "cell_type": "markdown",
   "metadata": {
    "nteract": {
     "transient": {
      "deleting": false
     }
    }
   },
   "source": [
    "![](assets/JackJaubert,tigereyes,banners.png)"
   ]
  },
  {
   "cell_type": "markdown",
   "metadata": {},
   "source": [
    "<nav class=\"nav nav-fill justify-content-between\">\n",
    "  <button type=\"button\" class=\"btn btn-outline-dark nav-link mr-1\">writing</button>\n",
    "  <button type=\"button\" class=\"btn btn-outline-dark nav-link mr-1\">thermodynamics</button>\n",
    "  <button type=\"button\" class=\"btn btn-outline-dark nav-link\">coding</button>\n",
    "</nav>"
   ]
  },
  {
   "cell_type": "markdown",
   "metadata": {},
   "source": [
    "<nav class=\"nav nav-pills nav-fill\">\n",
    "  <a class=\"nav-link \" href=\"#\">Writing</a>\n",
    "  <a class=\"nav-link\" href=\"#\">thermodynamics</a>\n",
    "  <a class=\"nav-link\" href=\"#\">coding</a>\n",
    "</nav>"
   ]
  },
  {
   "cell_type": "markdown",
   "metadata": {
    "nteract": {
     "transient": {
      "deleting": false
     }
    }
   },
   "source": [
    "<div class=\"d-flex justify-content-between\">\n",
    "<button type=\"button\" class=\"btn btn-outline-dark flex-grow-2\">writing</button>\n",
    "<button type=\"button\" class=\"btn btn-outline-dark\" \n",
    ">thermodynamics</button>\n",
    "<button type=\"button\" class=\"btn btn-outline-dark \n",
    "\">coding</button>\n",
    "    </div>\n"
   ]
  },
  {
   "cell_type": "markdown",
   "metadata": {
    "nteract": {
     "transient": {
      "deleting": false
     }
    }
   },
   "source": [
    "<div class=\"bd-callout bd-callout-info\">\n",
    "    \n",
    "#### It's a great time to get into some good trouble\n",
    "\n",
    "</div>"
   ]
  },
  {
   "cell_type": "code",
   "execution_count": null,
   "metadata": {},
   "outputs": [],
   "source": [
    "# joy to you"
   ]
  },
  {
   "cell_type": "markdown",
   "metadata": {},
   "source": [
    "0 1 2 3 4 5 6 7 8 9 "
   ]
  },
  {
   "cell_type": "markdown",
   "metadata": {},
   "source": [
    "<div class=\"alert alert-primary\" role=\"alert\">\n",
    "  A simple primary alert with <a href=\"#\" class=\"alert-link\">an example link</a>. Give it a click if you like.\n",
    "</div>\n",
    "<div class=\"alert alert-secondary\" role=\"alert\">\n",
    "  A simple secondary alert with <a href=\"#\" class=\"alert-link\">an example link</a>. Give it a click if you like.\n",
    "</div>\n",
    "<div class=\"alert alert-success\" role=\"alert\">\n",
    "  A simple success alert with <a href=\"#\" class=\"alert-link\">an example link</a>. Give it a click if you like.\n",
    "</div>\n",
    "<div class=\"alert alert-danger\" role=\"alert\">\n",
    "  A simple danger alert with <a href=\"#\" class=\"alert-link\">an example link</a>. Give it a click if you like.\n",
    "</div>\n",
    "<div class=\"alert alert-warning\" role=\"alert\">\n",
    "  A simple warning alert with <a href=\"https://www.bbc.com\" class=\"alert-link\">an example link</a>. Give it a click if you like.\n",
    "</div>\n",
    "<div class=\"alert alert-info\" role=\"alert\">\n",
    "  A simple info alert with <a href=\"#\" class=\"alert-link\">an example link</a>. Give it a click if you like.\n",
    "</div>\n",
    "<div class=\"alert alert-light\" role=\"alert\">\n",
    "  A simple light alert with <a href=\"#\" class=\"alert-link\">an example link</a>. Give it a click if you like.\n",
    "</div>\n",
    "<div class=\"alert alert-dark\" role=\"alert\">\n",
    "  A simple dark alert with <a href=\"https://www.bbc.com\" class=\"alert-link\">an example link</a>. Give it a click if you like.\n",
    "</div>"
   ]
  },
  {
   "cell_type": "markdown",
   "metadata": {},
   "source": [
    "<button type=\"button\" class=\"btn btn-outline-primary\">Primary</button>\n",
    "<button type=\"button\" class=\"btn btn-outline-secondary\">Secondary</button>\n",
    "<button type=\"button\" class=\"btn btn-outline-success\">Success</button>\n",
    "<button type=\"button\" class=\"btn btn-outline-danger\">Danger</button>\n",
    "<button type=\"button\" class=\"btn btn-outline-warning\">Warning</button>\n",
    "<button type=\"button\" class=\"btn btn-outline-info\">Info</button>\n",
    "<button type=\"button\" class=\"btn btn-outline-light\">Light</button>\n",
    "<button type=\"button\" class=\"btn btn-outline-dark\">Dark</button>"
   ]
  },
  {
   "cell_type": "markdown",
   "metadata": {},
   "source": [
    "<div class=\".jp-RenderedMarkdown\">\n",
    "    stuff stuff\n",
    "</div>"
   ]
  },
  {
   "cell_type": "markdown",
   "metadata": {},
   "source": [
    "<div class=\"tab-content\">\n",
    "  <div class=\"tab-pane fade show active\" id=\"home\" role=\"tabpanel\" aria-labelledby=\"home-tab\">good trouble</div>\n",
    "  <div class=\"tab-pane fade\" id=\"profile\" role=\"tabpanel\" aria-labelledby=\"profile-tab\">good trouble</div>\n",
    "  <div class=\"tab-pane fade\" id=\"messages\" role=\"tabpanel\" aria-labelledby=\"messages-tab\">good trouble.</div>\n",
    "  <div class=\"tab-pane fade\" id=\"settings\" role=\"tabpanel\" aria-labelledby=\"settings-tab\">good trouble</div>\n",
    "</div>"
   ]
  },
  {
   "cell_type": "markdown",
   "metadata": {},
   "source": [
    "<button class=\"button.bg-primary\">primary</button>"
   ]
  },
  {
   "cell_type": "markdown",
   "metadata": {},
   "source": [
    "<ul class=\"nav nav-tabs\" id=\"myTab\" role=\"tablist\">\n",
    "  <li class=\"nav-item\" role=\"presentation\">\n",
    "    <a class=\"nav-link active\" id=\"home-tab\" data-toggle=\"tab\" href=\"#home\" role=\"tab\" aria-controls=\"home\" aria-selected=\"true\">Home</a>\n",
    "  </li>\n",
    "  <li class=\"nav-item\" role=\"presentation\">\n",
    "    <a class=\"nav-link\" id=\"profile-tab\" data-toggle=\"tab\" href=\"#profile\" role=\"tab\" aria-controls=\"profile\" aria-selected=\"false\">Profile</a>\n",
    "  </li>\n",
    "  <li class=\"nav-item\" role=\"presentation\">\n",
    "    <a class=\"nav-link\" id=\"contact-tab\" data-toggle=\"tab\" href=\"#contact\" role=\"tab\" aria-controls=\"contact\" aria-selected=\"false\">Contact</a>\n",
    "  </li>\n",
    "</ul>\n",
    "<div class=\"tab-content\" id=\"myTabContent\">\n",
    "  <div class=\"tab-pane fade show active\" id=\"home\" role=\"tabpanel\" aria-labelledby=\"home-tab\">...</div>\n",
    "  <div class=\"tab-pane fade\" id=\"profile\" role=\"tabpanel\" aria-labelledby=\"profile-tab\">...</div>\n",
    "  <div class=\"tab-pane fade\" id=\"contact\" role=\"tabpanel\" aria-labelledby=\"contact-tab\">...</div>\n",
    "</div>"
   ]
  },
  {
   "cell_type": "markdown",
   "metadata": {},
   "source": []
  },
  {
   "cell_type": "markdown",
   "metadata": {},
   "source": [
    "<ul class=\"nav nav-pills mb-3\" id=\"pills-tab\" role=\"tablist\">\n",
    "  <li class=\"nav-item\" role=\"presentation\">\n",
    "    <a class=\"nav-link active\" id=\"pills-home-tab\" data-toggle=\"pill\" href=\"#pills-home\" role=\"tab\" aria-controls=\"pills-home\" aria-selected=\"true\">Home</a>\n",
    "  </li>\n",
    "  <li class=\"nav-item\" role=\"presentation\">\n",
    "    <a class=\"nav-link\" id=\"pills-profile-tab\" data-toggle=\"pill\" href=\"#pills-profile\" role=\"tab\" aria-controls=\"pills-profile\" aria-selected=\"false\">Profile</a>\n",
    "  </li>\n",
    "  <li class=\"nav-item\" role=\"presentation\">\n",
    "    <a class=\"nav-link\" id=\"pills-contact-tab\" data-toggle=\"pill\" href=\"#pills-contact\" role=\"tab\" aria-controls=\"pills-contact\" aria-selected=\"false\">Contact</a>\n",
    "  </li>\n",
    "</ul>\n",
    "<div class=\"tab-content\" id=\"pills-tabContent\">\n",
    "  <div class=\"tab-pane fade show active\" id=\"pills-home\" role=\"tabpanel\" aria-labelledby=\"pills-home-tab\">...</div>\n",
    "  <div class=\"tab-pane fade\" id=\"pills-profile\" role=\"tabpanel\" aria-labelledby=\"pills-profile-tab\">...</div>\n",
    "  <div class=\"tab-pane fade\" id=\"pills-contact\" role=\"tabpanel\" aria-labelledby=\"pills-contact-tab\">...</div>\n",
    "</div>"
   ]
  },
  {
   "cell_type": "markdown",
   "metadata": {},
   "source": []
  },
  {
   "cell_type": "markdown",
   "metadata": {},
   "source": [
    "<!-- Nav tabs -->\n",
    "<ul class=\"nav nav-tabs\" id=\"myTab\" role=\"tablist\">\n",
    "  <li class=\"nav-item\" role=\"presentation\">\n",
    "    <a class=\"nav-link active\" id=\"home-tab\" data-toggle=\"tab\" href=\"#home\" role=\"tab\" aria-controls=\"home\" aria-selected=\"true\">Home</a>\n",
    "  </li>\n",
    "  <li class=\"nav-item\" role=\"presentation\">\n",
    "    <a class=\"nav-link\" id=\"profile-tab\" data-toggle=\"tab\" href=\"#profile\" role=\"tab\" aria-controls=\"profile\" aria-selected=\"false\">Profile</a>\n",
    "  </li>\n",
    "  <li class=\"nav-item\" role=\"presentation\">\n",
    "    <a class=\"nav-link\" id=\"messages-tab\" data-toggle=\"tab\" href=\"#messages\" role=\"tab\" aria-controls=\"messages\" aria-selected=\"false\">Messages</a>\n",
    "  </li>\n",
    "  <li class=\"nav-item\" role=\"presentation\">\n",
    "    <a class=\"nav-link\" id=\"settings-tab\" data-toggle=\"tab\" href=\"#settings\" role=\"tab\" aria-controls=\"settings\" aria-selected=\"false\">Settings</a>\n",
    "  </li>\n",
    "</ul>\n",
    "\n",
    "<!-- Tab panes -->\n",
    "<div class=\"tab-content\">\n",
    "  <div class=\"tab-pane active\" id=\"home\" role=\"tabpanel\" aria-labelledby=\"home-tab\">...</div>\n",
    "  <div class=\"tab-pane\" id=\"profile\" role=\"tabpanel\" aria-labelledby=\"profile-tab\">...</div>\n",
    "  <div class=\"tab-pane\" id=\"messages\" role=\"tabpanel\" aria-labelledby=\"messages-tab\">...</div>\n",
    "  <div class=\"tab-pane\" id=\"settings\" role=\"tabpanel\" aria-labelledby=\"settings-tab\">...</div>\n",
    "</div>"
   ]
  },
  {
   "cell_type": "markdown",
   "metadata": {},
   "source": []
  },
  {
   "cell_type": "markdown",
   "metadata": {},
   "source": [
    "<nav>\n",
    "  <div class=\"nav nav-tabs\" id=\"nav-tab\" role=\"tablist\">\n",
    "    <a class=\"nav-link active\" id=\"nav-home-tab\" data-toggle=\"tab\" href=\"#nav-home\" role=\"tab\" aria-controls=\"nav-home\" aria-selected=\"true\">Home</a>\n",
    "    <a class=\"nav-link\" id=\"nav-profile-tab\" data-toggle=\"tab\" href=\"#nav-profile\" role=\"tab\" aria-controls=\"nav-profile\" aria-selected=\"false\">Profile</a>\n",
    "    <a class=\"nav-link\" id=\"nav-contact-tab\" data-toggle=\"tab\" href=\"#nav-contact\" role=\"tab\" aria-controls=\"nav-contact\" aria-selected=\"false\">Contact</a>\n",
    "  </div>\n",
    "</nav>\n",
    "<div class=\"tab-content\" id=\"nav-tabContent\">\n",
    "  <div class=\"tab-pane fade show active\" id=\"nav-home\" role=\"tabpanel\" aria-labelledby=\"nav-home-tab\">thermo</div>\n",
    "  <div class=\"tab-pane fade\" id=\"nav-profile\" role=\"tabpanel\" aria-labelledby=\"nav-profile-tab\">write</div>\n",
    "  <div class=\"tab-pane fade\" id=\"nav-contact\" role=\"tabpanel\" aria-labelledby=\"nav-contact-tab\">code</div>\n",
    "</div>"
   ]
  },
  {
   "cell_type": "code",
   "execution_count": null,
   "metadata": {},
   "outputs": [],
   "source": []
  },
  {
   "cell_type": "markdown",
   "metadata": {},
   "source": [
    "<!-- <section class=\"toc\"> -->\n",
    "\n",
    "## Genesis \n",
    "  \n",
    "1. [Learn How to Write Markdown & LaTeX in The Jupyter Notebook](https://towardsdatascience.com/write-markdown-latex-in-the-jupyter-notebook-10985edb91fd) \n",
    "\n",
    "1. [MathJax basic tutorial and quick reference](https://math.meta.stackexchange.com/questions/5020/mathjax-basic-tutorial-and-quick-reference)\n",
    "    \n",
    "1. [The complete guide to Data Science IDE JupyterLab](http://data2art.com/Jupyterlab-en.html#jupyterlab_voyager)\n",
    "    \n",
    "1. [The Executable Book Project](https://executablebooks.org/en/latest/)\n",
    "    \n",
    "1. [Codebraid – live code in Pandoc Markdown](https://github.com/gpoore/codebraid)\n",
    "\n",
    "1. [R Markdown: The Definitive Guide](https://bookdown.org/yihui/rmarkdown/)\n",
    "\n",
    "1. [R Markdown Cookbook](https://bookdown.org/yihui/rmarkdown-cookbook/)\n",
    "\n",
    "1. [bookdown: Authoring Books and Technical Documents with R Markdown](https://bookdown.org/yihui/bookdown/)\n",
    "\n",
    "1. [R Graphics Cookbook, 2nd edition](https://r-graphics.org/)\n",
    "\n",
    "1. [Fundamentals of Data Visualization](https://clauswilke.com/dataviz/)\n",
    "\n",
    "1. [Data Visualization](https://socviz.co/)\n",
    "\n",
    "1. [Weave.jl - Scientific Reports Using Julia](http://weavejl.mpastell.com/stable/)\n",
    "\n",
    "1. []()\n",
    "\n",
    "\n",
    "<!-- </section> -->"
   ]
  },
  {
   "cell_type": "markdown",
   "metadata": {},
   "source": [
    "\\begin{equation}\n",
    "\\cancel{x^5} \\qquad \\ce{H2O}\n",
    "\\end{equation}"
   ]
  },
  {
   "cell_type": "markdown",
   "metadata": {},
   "source": [
    "\\begin{equation}\n",
    "x^5 \\qquad \\ce{H2O}\n",
    "\\end{equation}\n"
   ]
  },
  {
   "cell_type": "markdown",
   "metadata": {},
   "source": [
    "\\begin{equation}\n",
    "x^5 \\qquad \\ce{H2O}\n",
    "\\end{equation}\n"
   ]
  },
  {
   "cell_type": "markdown",
   "metadata": {},
   "source": [
    "\\begin{equation}\n",
    "x^5 \\qquad \\ce{H2O}\n",
    "\\end{equation}\n"
   ]
  },
  {
   "cell_type": "markdown",
   "metadata": {},
   "source": [
    "\\begin{equation}\n",
    "x^5 \\qquad \\ce{H2O}\n",
    "\\end{equation}\n"
   ]
  },
  {
   "cell_type": "markdown",
   "metadata": {},
   "source": [
    "\\begin{equation}\n",
    "x^5 \\qquad \\ce{H2O} \\label{eq:one}\n",
    "\\end{equation}\n"
   ]
  },
  {
   "cell_type": "markdown",
   "metadata": {},
   "source": [
    "# te noe\n",
    "\n",
    "$\\begin{equation}\n",
    "x^5 \\qquad \\ce{H2O}\n",
    "\\end{equation}\n",
    "$\n",
    "\n",
    "#id-e05bdc93-d310-4ce8-b9ba-e9e78391d7aa > div.lm-Widget.p-Widget.jp-Cell.jp-MarkdownCell.jp-Notebook-cell.jp-mod-rendered.jp-mod-active.jp-mod-selected > div.lm-Widget.p-Widget.lm-Panel.p-Panel.jp-Cell-inputWrapper > div.lm-Widget.p-Widget.jp-InputArea.jp-Cell-inputArea > div.lm-Widget.p-Widget.jp-RenderedHTMLCommon.jp-RenderedMarkdown.jp-MarkdownOutput"
   ]
  },
  {
   "cell_type": "markdown",
   "metadata": {},
   "source": [
    "# te noe\n",
    "\n",
    "$\\begin{equation}\n",
    "x^5 \\qquad \\ce{H2O}\n",
    "\\end{equation}\n",
    "$\n"
   ]
  },
  {
   "cell_type": "markdown",
   "metadata": {},
   "source": [
    "\\begin{equation}\n",
    "x^5 \\qquad \\ce{H2O}\n",
    "\\end{equation}\n"
   ]
  },
  {
   "cell_type": "markdown",
   "metadata": {},
   "source": [
    "\\begin{equation}\n",
    "x^5 \\qquad \\ce{H2O}\n",
    "\\end{equation}\n"
   ]
  },
  {
   "cell_type": "markdown",
   "metadata": {},
   "source": [
    "\\begin{equation}\n",
    "x^5 \\qquad \\ce{H2O}\n",
    "\\end{equation}\n"
   ]
  },
  {
   "cell_type": "markdown",
   "metadata": {},
   "source": [
    "this thing was in eqn($\\ref{eq:one}$)"
   ]
  },
  {
   "cell_type": "markdown",
   "metadata": {},
   "source": [
    "```json\n",
    "{\n",
    "  \"rules\": [{\n",
    "\t\"selector\": \".toc\",\n",
    "\t\"styles\": [\n",
    "      \"background-color: red\",\n",
    "    ]\n",
    "  }]\n",
    "}\n",
    "```"
   ]
  },
  {
   "cell_type": "code",
   "execution_count": 2,
   "metadata": {},
   "outputs": [
    {
     "data": {
      "text/plain": [
       "@javascript_str (macro with 1 method)"
      ]
     },
     "execution_count": 2,
     "metadata": {},
     "output_type": "execute_result"
    }
   ],
   "source": [
    "macro javascript_str(s) display(\"text/javascript\", s); end"
   ]
  },
  {
   "cell_type": "code",
   "execution_count": 4,
   "metadata": {},
   "outputs": [
    {
     "data": {
      "application/javascript": [
       "window.MathJax = {\n",
       "  tex: {\n",
       "    tags: 'ams'\n",
       "  }\n",
       "};\n"
      ]
     },
     "metadata": {},
     "output_type": "display_data"
    }
   ],
   "source": [
    "javascript\"\"\"\n",
    "window.MathJax = {\n",
    "  tex: {\n",
    "    tags: 'ams'\n",
    "  }\n",
    "};\n",
    "\"\"\""
   ]
  },
  {
   "cell_type": "code",
   "execution_count": 3,
   "metadata": {},
   "outputs": [
    {
     "data": {
      "application/javascript": [
       "MathJax.startup.document.state(0);\n",
       "MathJax.texReset();\n",
       "MathJax.typeset();\n"
      ]
     },
     "metadata": {},
     "output_type": "display_data"
    }
   ],
   "source": [
    "javascript\"\"\"\n",
    "MathJax.startup.document.state(0);\n",
    "MathJax.texReset();\n",
    "MathJax.typeset();\n",
    "\"\"\""
   ]
  },
  {
   "cell_type": "code",
   "execution_count": 13,
   "metadata": {},
   "outputs": [
    {
     "data": {
      "text/plain": [
       "5082"
      ]
     },
     "execution_count": 13,
     "metadata": {},
     "output_type": "execute_result"
    }
   ],
   "source": [
    "66 * 77"
   ]
  },
  {
   "cell_type": "code",
   "execution_count": 2,
   "metadata": {},
   "outputs": [
    {
     "data": {
      "application/javascript": [
       "\n",
       "MathJax.Hub.Config({\n",
       "    TeX: { equationNumbers: { autoNumber: \"AMS\" } }\n",
       "});\n"
      ]
     },
     "metadata": {},
     "output_type": "display_data"
    }
   ],
   "source": [
    "javascript\"\"\"\n",
    "\n",
    "MathJax.Hub.Config({\n",
    "    TeX: { equationNumbers: { autoNumber: \"AMS\" } }\n",
    "});\n",
    "\"\"\""
   ]
  },
  {
   "cell_type": "code",
   "execution_count": 3,
   "metadata": {},
   "outputs": [
    {
     "data": {
      "application/javascript": [
       "\n",
       "MathJax.Hub.Queue(\n",
       "  [\"resetEquationNumbers\", MathJax.InputJax.TeX],\n",
       "  [\"PreProcess\", MathJax.Hub],\n",
       "  [\"Reprocess\", MathJax.Hub]\n",
       ");\n",
       "\n"
      ]
     },
     "metadata": {},
     "output_type": "display_data"
    }
   ],
   "source": [
    "javascript\"\"\"\n",
    "\n",
    "MathJax.Hub.Queue(\n",
    "  [\"resetEquationNumbers\", MathJax.InputJax.TeX],\n",
    "  [\"PreProcess\", MathJax.Hub],\n",
    "  [\"Reprocess\", MathJax.Hub]\n",
    ");\n",
    "\n",
    "\"\"\""
   ]
  },
  {
   "cell_type": "markdown",
   "metadata": {},
   "source": [
    "<header class=\"index\">\n",
    "<div class=\"index\">\n",
    "  <div><img title=\"Julia logo\" src=\"figures/julia-logo-color.svg\" alt=\"Julia animated logo\" width=35 /></div>\n",
    "  <div><img title=\"Powered by Python\" src=\"https://www.python.org/static/community_logos/python-logo-inkscape.svg\" alt=\"Powered by Python\" width=85 /></div>\n",
    "  <div><img title=\"R Logo\" src=\"https://www.r-project.org/logo/Rlogo.svg\" alt=\"R Logo\" width=25 /></div>\n",
    "  <div>${\\normalsize\\LaTeX}$</div>\n",
    "  <div><img title=\"Powered by MathJax\" src=\"https://www.mathjax.org/badge/mj-logo.svg\" alt=\"Powered by MathJax\" width=65 /></div>\n",
    "</div>\n",
    "</header>\n",
    "$$$$"
   ]
  },
  {
   "cell_type": "markdown",
   "metadata": {},
   "source": [
    "12345"
   ]
  },
  {
   "cell_type": "markdown",
   "metadata": {},
   "source": [
    "# this"
   ]
  },
  {
   "cell_type": "markdown",
   "metadata": {},
   "source": []
  },
  {
   "cell_type": "markdown",
   "metadata": {},
   "source": []
  }
 ],
 "metadata": {
  "kernel_info": {
   "name": "julia-1.5"
  },
  "kernelspec": {
   "display_name": "Julia 1.5.1",
   "language": "julia",
   "name": "julia-1.5"
  },
  "language_info": {
   "file_extension": ".jl",
   "mimetype": "application/julia",
   "name": "julia",
   "version": "1.5.1"
  },
  "nteract": {
   "version": "0.24.1"
  }
 },
 "nbformat": 4,
 "nbformat_minor": 4
}
