{
  "cells": [
    {
      "cell_type": "markdown",
      "source": [
        "![](work/assets/JackJaubert,tigereyes.png)\n",
        "\n",
        "# LabKit Demos"
      ],
      "metadata": {
        "nteract": {
          "transient": {
            "deleting": false
          }
        }
      }
    },
    {
      "cell_type": "markdown",
      "source": [],
      "metadata": {
        "nteract": {
          "transient": {
            "deleting": false
          }
        }
      }
    }
  ],
  "metadata": {
    "kernel_info": {
      "name": "julia-1.5"
    },
    "language_info": {
      "file_extension": ".jl",
      "name": "julia",
      "mimetype": "application/julia",
      "version": "1.5.0"
    },
    "kernelspec": {
      "argv": [
        "/Applications/Julia-1.5.app/Contents/Resources/julia/bin/julia",
        "-i",
        "--startup-file=yes",
        "--color=yes",
        "--project=@.",
        "/Users/psydat/.julia/packages/IJulia/DrVMH/src/kernel.jl",
        "{connection_file}"
      ],
      "display_name": "Julia 1.5.0",
      "env": {},
      "interrupt_mode": "signal",
      "language": "julia",
      "name": "julia-1.5"
    },
    "nteract": {
      "version": "0.24.1"
    }
  },
  "nbformat": 4,
  "nbformat_minor": 0
}