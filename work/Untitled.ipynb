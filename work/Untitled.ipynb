{
 "cells": [
  {
   "cell_type": "markdown",
   "metadata": {},
   "source": [
    "<section class=\"toc\">\n",
    "\n",
    "## Genesis \n",
    "  \n",
    "1. [Learn How to Write Markdown & LaTeX in The Jupyter Notebook](https://towardsdatascience.com/write-markdown-latex-in-the-jupyter-notebook-10985edb91fd) \n",
    "\n",
    "1. [MathJax basic tutorial and quick reference](https://math.meta.stackexchange.com/questions/5020/mathjax-basic-tutorial-and-quick-reference)\n",
    "    \n",
    "1. [The complete guide to Data Science IDE JupyterLab](http://data2art.com/Jupyterlab-en.html#jupyterlab_voyager)\n",
    "    \n",
    "1. [The Executable Book Project](https://executablebooks.org/en/latest/)\n",
    "    \n",
    "1. [Codebraid – live code in Pandoc Markdown](https://github.com/gpoore/codebraid)\n",
    "\n",
    "1. [R Markdown: The Definitive Guide](https://bookdown.org/yihui/rmarkdown/)\n",
    "\n",
    "1. [R Markdown Cookbook](https://bookdown.org/yihui/rmarkdown-cookbook/)\n",
    "\n",
    "1. [bookdown: Authoring Books and Technical Documents with R Markdown](https://bookdown.org/yihui/bookdown/)\n",
    "\n",
    "1. [R Graphics Cookbook, 2nd edition](https://r-graphics.org/)\n",
    "\n",
    "1. [Fundamentals of Data Visualization](https://clauswilke.com/dataviz/)\n",
    "\n",
    "1. [Data Visualization](https://socviz.co/)\n",
    "\n",
    "1. [Weave.jl - Scientific Reports Using Julia](http://weavejl.mpastell.com/stable/)\n",
    "\n",
    "1. []()\n",
    "\n",
    "\n",
    "</section>"
   ]
  },
  {
   "cell_type": "code",
   "execution_count": null,
   "metadata": {},
   "outputs": [],
   "source": []
  }
 ],
 "metadata": {
  "kernelspec": {
   "display_name": "Julia 1.5.1",
   "language": "julia",
   "name": "julia-1.5"
  },
  "language_info": {
   "file_extension": ".jl",
   "mimetype": "application/julia",
   "name": "julia",
   "version": "1.5.1"
  }
 },
 "nbformat": 4,
 "nbformat_minor": 4
}
