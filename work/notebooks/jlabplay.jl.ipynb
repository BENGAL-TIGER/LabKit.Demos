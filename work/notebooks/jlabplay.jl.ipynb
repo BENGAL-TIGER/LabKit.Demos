{
 "cells": [
  {
   "cell_type": "markdown",
   "metadata": {},
   "source": [
    "# heading 1"
   ]
  },
  {
   "cell_type": "markdown",
   "metadata": {},
   "source": [
    "## image h2\n",
    "\n",
    "![](assets/BitchStayOut.jpg)"
   ]
  },
  {
   "cell_type": "markdown",
   "metadata": {},
   "source": [
    "### eqn h3 \n",
    "\n",
    "\\begin{gather}\n",
    "ax^2 + bx + c \\\\[12pt]\n",
    "\\ce{C6H12O6}  \\\\[12pt]\n",
    "w_{\\rm out} = \\int^2_1 P {\\rm d}v\n",
    "\\end{gather}"
   ]
  },
  {
   "cell_type": "code",
   "execution_count": 1,
   "metadata": {},
   "outputs": [
    {
     "data": {
      "text/plain": [
       "65"
      ]
     },
     "execution_count": 1,
     "metadata": {},
     "output_type": "execute_result"
    }
   ],
   "source": [
    "x = 5\n",
    "y = 13\n",
    "\n",
    "x*y"
   ]
  },
  {
   "cell_type": "markdown",
   "metadata": {},
   "source": [
    "#### Lorem h4 \n",
    "\n",
    "\n",
    "\n",
    "Lorem ipsum dolor sit amet, consectetur adipiscing elit. Curabitur finibus, sapien egestas euismod pretium, justo nunc mollis eros, semper luctus sapien elit ut dui. Phasellus blandit orci at urna consequat, ut porttitor arcu commodo. In placerat erat est, sed laoreet nisl euismod non. Fusce quis tincidunt libero. Etiam et ligula arcu. Donec condimentum consequat dui ut laoreet. Vivamus eget odio id eros pellentesque sollicitudin non quis justo. Sed efficitur commodo odio, ac sagittis felis posuere sed. Etiam vehicula semper diam, non tristique lorem gravida pretium. Maecenas molestie orci urna.\n",
    "\n"
   ]
  },
  {
   "cell_type": "markdown",
   "metadata": {},
   "source": [
    "#### Lorem h4\n",
    "\n",
    "Lorem ipsum dolor sit amet, consectetur adipiscing elit. Curabitur finibus, sapien egestas euismod pretium, justo nunc mollis eros, semper luctus sapien elit ut dui. Phasellus blandit orci at urna consequat, ut porttitor arcu commodo. In placerat erat est, sed laoreet nisl euismod non. Fusce quis tincidunt libero. Etiam et ligula arcu. Donec condimentum consequat dui ut laoreet. Vivamus eget odio id eros pellentesque sollicitudin non quis justo. Sed efficitur commodo odio, ac sagittis felis posuere sed. Etiam vehicula semper diam, non tristique lorem gravida pretium. Maecenas molestie orci urna.\n",
    "\n"
   ]
  },
  {
   "cell_type": "code",
   "execution_count": 2,
   "metadata": {},
   "outputs": [],
   "source": [
    "using CoolProp"
   ]
  },
  {
   "cell_type": "markdown",
   "metadata": {},
   "source": [
    "\\begin{gather}\n",
    "ax^2 + bx + c \\\\\n",
    "w_{\\rm out} = \\int^2_1 P {\\rm d}v\n",
    "\\end{gather}"
   ]
  },
  {
   "cell_type": "code",
   "execution_count": null,
   "metadata": {},
   "outputs": [],
   "source": []
  },
  {
   "cell_type": "markdown",
   "metadata": {},
   "source": [
    "Marked - Markdown Parser\n",
    "========================\n",
    "\n",
    "[Marked] lets you convert [Markdown] into HTML.  Markdown is a simple text format whose goal is to be very easy to read and write, even when not converted to HTML.  This demo page will let you type anything you like and see how it gets converted.  Live.  No more waiting around.\n",
    "\n",
    "How To Use The Demo\n",
    "-------------------\n",
    "\n",
    "1. Type in stuff on the left.\n",
    "2. See the live updates on the right.\n",
    "\n",
    "That's it.  Pretty simple.  There's also a drop-down option in the upper right to switch between various views:\n",
    "\n",
    "- **Preview:**  A live display of the generated HTML as it would render in a browser.\n",
    "- **HTML Source:**  The generated HTML before your browser makes it pretty.\n",
    "- **Lexer Data:**  What [marked] uses internally, in case you like gory stuff like this.\n",
    "- **Quick Reference:**  A brief run-down of how to format things using markdown.\n",
    "\n",
    "Why Markdown?\n",
    "-------------\n",
    "\n",
    "It's easy.  It's not overly bloated, unlike HTML.  Also, as the creator of [markdown] says,\n",
    "\n",
    "> The overriding design goal for Markdown's\n",
    "> formatting syntax is to make it as readable\n",
    "> as possible. The idea is that a\n",
    "> Markdown-formatted document should be\n",
    "> publishable as-is, as plain text, without\n",
    "> looking like it's been marked up with tags\n",
    "> or formatting instructions.\n",
    "\n",
    "Ready to start writing?  Either start changing stuff on the left or\n",
    "[clear everything](/demo/?text=) with a simple click.\n",
    "\n",
    "[Marked]: https://github.com/markedjs/marked/\n",
    "[Markdown]: http://daringfireball.net/projects/markdown/\n"
   ]
  }
 ],
 "metadata": {
  "kernelspec": {
   "display_name": "Julia 1.5.1",
   "language": "julia",
   "name": "julia-1.5"
  },
  "language_info": {
   "file_extension": ".jl",
   "mimetype": "application/julia",
   "name": "julia",
   "version": "1.5.1"
  }
 },
 "nbformat": 4,
 "nbformat_minor": 4
}
