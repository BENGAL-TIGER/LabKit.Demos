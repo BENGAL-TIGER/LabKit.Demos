{
 "cells": [
  {
   "cell_type": "markdown",
   "metadata": {},
   "source": [
    "# coding"
   ]
  },
  {
   "cell_type": "markdown",
   "metadata": {},
   "source": [
    "## Julia\n",
    "\n",
    "1. Help and other resources   \n",
    "    [Julia Home](#) ⋮ \n",
    "    Lorem Ipsum is simply dummy text of the printing and typesetting industry.  \n",
    "    [Julia Discourse](#) ⋮ \n",
    "    Lorem Ipsum is simply dummy text of the printing and typesetting industry.   \n",
    "    [Julia Observer](#) ⋮ \n",
    "    Lorem Ipsum is simply dummy text of the printing and typesetting industry.   \n",
    "    [JuliaCon](#) ⋮ \n",
    "    Lorem Ipsum is simply dummy text of the printing and typesetting industry.   \n",
    "  \n",
    "1. Julia Fundamentals  \n",
    "    [Elementary](#) ⋮ Terminology, Lorem Ipsum is simply dummy text of the printing and typesetting industry. Lorem Ipsum has been the industry's standard dummy text ever since the 1500s, when an unknown printer took a galley of type and scrambled it to make a type specimen book. It has survived not only five centuries, but also the leap into electronic typesetting, remaining essentially unchanged. It was popularised in the 1960s with the release of Letraset sheets containing Lorem Ipsum passages, and more recently with desktop publishing software like Aldus PageMaker including versions of Lorem Ipsum.    \n",
    "\n",
    "    [Secondary](#) ⋮ Package Manager and Julia Projects. Lorem Ipsum is simply dummy text of the printing and typesetting industry. Lorem Ipsum has been the industry's standard dummy text ever since the 1500s, when an unknown printer took a galley of type and scrambled it to make a type specimen book. It has survived not only five centuries, but also the leap into electronic typesetting, remaining essentially unchanged. It was popularised in the 1960s with the release of Letraset sheets containing Lorem Ipsum passages, and more recently with desktop publishing software like Aldus PageMaker including versions of Lorem Ipsum.    \n",
    "\n",
    "    [University](#) ⋮ Interfacing with other languages. Writing. Lorem Ipsum is simply dummy text of the printing and typesetting industry. Lorem Ipsum has been the industry's standard dummy text ever since the 1500s, when an unknown printer took a galley of type and scrambled it to make a type specimen book. It has survived not only five centuries, but also the leap into electronic typesetting, remaining essentially unchanged. It was popularised in the 1960s with the release of Letraset sheets containing Lorem Ipsum passages, and more recently with desktop publishing software like Aldus PageMaker including versions of Lorem Ipsum.    \n",
    "    \n",
    "1. Plotting  \n",
    "    Lorem Ipsum is simply dummy text of the printing and typesetting industry. Lorem Ipsum has been the industry's standard dummy text ever since the 1500s, when an unknown printer took a galley of type and scrambled it to make a type specimen book. It has survived not only five centuries, but also the leap into electronic typesetting, remaining essentially unchanged. It was popularised in the 1960s with the release of Letraset sheets containing Lorem Ipsum passages, and more recently with desktop publishing software like Aldus PageMaker including versions of Lorem Ipsum.  \n",
    "    [JuliaPlots](http://docs.juliaplots.org/latest/) ⋮\n",
    "    Lorem Ipsum is simply dummy text of the printing and typesetting industry.  [Plots.jl Home]()    \n",
    "    [Makie.jl](#) \n",
    "    Lorem Ipsum is simply dummy text of the printing and typesetting industry. [Makie.jl Home]()    \n",
    "    [VegaLite.jl](#) ⋮\n",
    "    Lorem Ipsum is simply dummy text of the printing and typesetting industry. [VegaLite.jl Home]()    \n",
    "    [RDatasets.jl](#) ⋮\n",
    "    Lorem Ipsum is simply dummy text of the printing and typesetting industry. [RDatasets.jl Home]() \n",
    "  \n",
    "1. Physical World   \n",
    "    [coolprop](#)   \n",
    "    [unitful](#)   \n",
    "    \n",
    "1. Tools  \n",
    "    Development environments ⋮ Jupyter/IJulia. Atom/Junolab. Microsoft VS Code/Julia   \n",
    "     "
   ]
  },
  {
   "cell_type": "code",
   "execution_count": null,
   "metadata": {},
   "outputs": [],
   "source": []
  },
  {
   "cell_type": "code",
   "execution_count": null,
   "metadata": {},
   "outputs": [],
   "source": []
  }
 ],
 "metadata": {
  "kernelspec": {
   "display_name": "Python 3",
   "language": "python",
   "name": "python3"
  },
  "language_info": {
   "codemirror_mode": {
    "name": "ipython",
    "version": 3
   },
   "file_extension": ".py",
   "mimetype": "text/x-python",
   "name": "python",
   "nbconvert_exporter": "python",
   "pygments_lexer": "ipython3",
   "version": "3.9.0"
  }
 },
 "nbformat": 4,
 "nbformat_minor": 4
}
