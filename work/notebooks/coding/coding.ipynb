{
 "cells": [
  {
   "cell_type": "markdown",
   "metadata": {},
   "source": [
    "## Hi, I'm Julia\n",
    "\n",
    "1. Help and other resources   \n",
    "    [Julia Home](https://julialang.org) ⋮ \n",
    "    Julia official Home. Find also [Documentation](https://docs.julialang.org/en/v1/), Community resources, Learning resources, [Packages](https://julialang.org/packages/)\n",
    "    [JuliaAcademy](https://juliaacademy.com) ⋮ \n",
    "    \"The definitive source for learning all things Julia for free\" Prepared by core Julia developers in collaboration with Julia Computing. \n",
    "    [Stack Overflow](https://stackoverflow.com) ⋮ \n",
    "    Some of the best Q/A about anything, anywhere.\n",
    "    [Julia Discourse](https://discourse.julialang.org) ⋮ \n",
    "    Julia users forum.   \n",
    "    [Julia Observer](https://juliaobserver.com/) ⋮ \n",
    "    Lorem Ipsum is simply dummy text of the printing and typesetting industry.   \n",
    "    [JuliaCon](https://juliacon.org/2020/) ⋮ \n",
    "    Lorem Ipsum is simply dummy text of the printing and typesetting industry.   \n",
    "  \n",
    "1. Julia Fundamentals  \n",
    "    [Elementary](#) ⋮ Terminology, Lorem Ipsum is simply dummy text of the printing and typesetting industry. Lorem Ipsum has been the industry's standard dummy text ever since the 1500s, when an unknown printer took a galley of type and scrambled it to make a type specimen book. It has survived not only five centuries, but also the leap into electronic typesetting, remaining essentially unchanged. It was popularised in the 1960s with the release of Letraset sheets containing Lorem Ipsum passages, and more recently with desktop publishing software like Aldus PageMaker including versions of Lorem Ipsum.    \n",
    "\n",
    "    [Secondary](#) ⋮ Package Manager and Julia Projects. Lorem Ipsum is simply dummy text of the printing and typesetting industry. Lorem Ipsum has been the industry's standard dummy text ever since the 1500s, when an unknown printer took a galley of type and scrambled it to make a type specimen book. It has survived not only five centuries, but also the leap into electronic typesetting, remaining essentially unchanged. It was popularised in the 1960s with the release of Letraset sheets containing Lorem Ipsum passages, and more recently with desktop publishing software like Aldus PageMaker including versions of Lorem Ipsum.    \n",
    "\n",
    "    [University](#) ⋮ Interfacing with other languages. Writing. Lorem Ipsum is simply dummy text of the printing and typesetting industry. Lorem Ipsum has been the industry's standard dummy text ever since the 1500s, when an unknown printer took a galley of type and scrambled it to make a type specimen book. It has survived not only five centuries, but also the leap into electronic typesetting, remaining essentially unchanged. It was popularised in the 1960s with the release of Letraset sheets containing Lorem Ipsum passages, and more recently with desktop publishing software like Aldus PageMaker including versions of Lorem Ipsum.    \n",
    "    \n",
    "1. Data Visualization, Graphics, User Inferfaces, and Interactivity  \n",
    "    Lorem Ipsum is simply dummy text of the printing and typesetting industry. Lorem Ipsum has been the industry's standard dummy text ever since the 1500s, when an unknown printer took a galley of type and scrambled it to make a type specimen book. It has survived not only five centuries, but also the leap into electronic typesetting, remaining essentially unchanged. It was popularised in the 1960s with the release of Letraset sheets containing Lorem Ipsum passages, and more recently with desktop publishing software like Aldus PageMaker including versions of Lorem Ipsum.  \n",
    "    [JuliaPlots](http://docs.juliaplots.org/latest/) ⋮\n",
    "    Lorem Ipsum is simply dummy text of the printing and typesetting industry.  [Plots.jl Home]()    \n",
    "    [Makie.jl](#) \n",
    "    Lorem Ipsum is simply dummy text of the printing and typesetting industry. [Makie.jl Home]()    \n",
    "    [VegaLite.jl](#) ⋮\n",
    "    Lorem Ipsum is simply dummy text of the printing and typesetting industry. [VegaLite.jl Home]()    \n",
    "    [RDatasets.jl](#) ⋮\n",
    "    Lorem Ipsum is simply dummy text of the printing and typesetting industry. [RDatasets.jl Home]() \n",
    "  \n",
    "1. Physical World   \n",
    "    [coolprop](#)   \n",
    "    [unitful](#)   \n",
    "    \n",
    "1. Tools  \n",
    "    Development environments ⋮ Jupyter/IJulia. Atom/Junolab. Microsoft VS Code/Julia   \n",
    "     "
   ]
  },
  {
   "cell_type": "code",
   "execution_count": null,
   "metadata": {},
   "outputs": [],
   "source": []
  },
  {
   "cell_type": "code",
   "execution_count": null,
   "metadata": {},
   "outputs": [],
   "source": []
  }
 ],
 "metadata": {
  "kernelspec": {
   "display_name": "Python 3",
   "language": "python",
   "name": "python3"
  },
  "language_info": {
   "codemirror_mode": {
    "name": "ipython",
    "version": 3
   },
   "file_extension": ".py",
   "mimetype": "text/x-python",
   "name": "python",
   "nbconvert_exporter": "python",
   "pygments_lexer": "ipython3",
   "version": "3.9.0"
  }
 },
 "nbformat": 4,
 "nbformat_minor": 4
}
