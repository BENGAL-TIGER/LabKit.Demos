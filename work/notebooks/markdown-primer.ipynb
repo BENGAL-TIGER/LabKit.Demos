{
 "cells": [
  {
   "cell_type": "markdown",
   "metadata": {
    "nteract": {
     "transient": {
      "deleting": false
     }
    }
   },
   "source": [
    "# noteboooks live here"
   ]
  },
  {
   "cell_type": "markdown",
   "metadata": {},
   "source": [
    "Here is a really simple Markdown primer"
   ]
  },
  {
   "cell_type": "markdown",
   "metadata": {
    "nteract": {
     "transient": {
      "deleting": false
     }
    }
   },
   "source": [
    "```md\n",
    "# heading 1\n",
    "\n",
    "## heading 2\n",
    "\n",
    "### heading 3\n",
    "\n",
    "#### heading 4\n",
    "\n",
    "##### heading 5\n",
    "\n",
    "###### heading 6\n",
    "```\n",
    "\n",
    "\n",
    "\n",
    "# heading 1\n",
    "\n",
    "## heading 2\n",
    "\n",
    "### heading 3\n",
    "\n",
    "#### heading 4\n",
    "\n",
    "##### heading 5\n",
    "\n",
    "###### heading 6\n",
    "\n",
    "\n"
   ]
  },
  {
   "cell_type": "markdown",
   "metadata": {},
   "source": [
    "```md\n",
    "**bold**\n",
    "__bold__\n",
    "```\n",
    "\n",
    "**bold** \n",
    "__bold__\n",
    "\n"
   ]
  },
  {
   "cell_type": "code",
   "execution_count": null,
   "metadata": {},
   "outputs": [],
   "source": []
  }
 ],
 "metadata": {
  "kernel_info": {
   "name": "python3"
  },
  "kernelspec": {
   "display_name": "Python 3",
   "language": "python",
   "name": "python3"
  },
  "language_info": {
   "codemirror_mode": {
    "name": "ipython",
    "version": 3
   },
   "file_extension": ".py",
   "mimetype": "text/x-python",
   "name": "python",
   "nbconvert_exporter": "python",
   "pygments_lexer": "ipython3",
   "version": "3.8.5"
  },
  "nteract": {
   "version": "0.24.1"
  }
 },
 "nbformat": 4,
 "nbformat_minor": 4
}
