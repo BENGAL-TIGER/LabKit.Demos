{
 "cells": [
  {
   "cell_type": "markdown",
   "metadata": {},
   "source": [
    "### Writing Mathematics"
   ]
  },
  {
   "cell_type": "markdown",
   "metadata": {},
   "source": [
    "$\\ce{C12H22O12}$"
   ]
  },
  {
   "cell_type": "markdown",
   "metadata": {},
   "source": [
    "\\begin{equation}\n",
    "\\ce{H2SO4}\n",
    "\\end{equation}\n",
    "\n"
   ]
  },
  {
   "cell_type": "markdown",
   "metadata": {},
   "source": [
    "\n",
    "\\begin{equation}\n",
    "x^2 + y^2 - z^2 = 0\n",
    "\\end{equation}\n",
    "\n"
   ]
  },
  {
   "cell_type": "markdown",
   "metadata": {},
   "source": [
    "\\begin{align}\n",
    "x^2 + y^2 - z^2 = 0 \\\\[24pt]\n",
    "f'(x) = \\lim_{h \\rightarrow 0}  \\frac{f(x+h)-f(x)}{h}\n",
    "\\end{align}\n",
    "\n"
   ]
  },
  {
   "cell_type": "code",
   "execution_count": 2,
   "metadata": {},
   "outputs": [
    {
     "data": {
      "text/plain": [
       "@javascript_str (macro with 1 method)"
      ]
     },
     "execution_count": 2,
     "metadata": {},
     "output_type": "execute_result"
    }
   ],
   "source": [
    "macro javascript_str(s) display(\"text/javascript\", s); end\n"
   ]
  },
  {
   "cell_type": "markdown",
   "metadata": {},
   "source": [
    "```javascript\n",
    "MathJax.typesetClear()\n",
    "```"
   ]
  },
  {
   "cell_type": "markdown",
   "metadata": {},
   "source": [
    "\\begin{align}\n",
    "    g &= \\int_a^b f(x)dx \\label{eq:1} \\\\\n",
    "    a &= b + c \\label{eq:2}\n",
    "\\end{align}\n",
    "\n",
    "See (\\ref{eq:1}) and (\\ref{eq:2})"
   ]
  },
  {
   "cell_type": "markdown",
   "metadata": {},
   "source": [
    "\\begin{align}\n",
    "    g &= \\int_a^b f\\left(x\\right)dx \\label{eq:10321} \\\\[12pt]\n",
    "    a &= b + c \\label{eq:20230}\n",
    "\\end{align}"
   ]
  },
  {
   "cell_type": "markdown",
   "metadata": {},
   "source": [
    "\\begin{equation}\n",
    "x^5 \\qquad \\ce{H2O}\n",
    "\\end{equation}"
   ]
  },
  {
   "cell_type": "markdown",
   "metadata": {},
   "source": [
    "## Eight 8\n",
    "\n",
    "\\begin{align}\n",
    "g &= \\int_a^b f(x)\\,{\\rm d}x  \\label{eq:11} \\\\\n",
    "a &= b + c \\label{eq:21}\n",
    "\\end{align}"
   ]
  },
  {
   "cell_type": "markdown",
   "metadata": {},
   "source": [
    "See (\\ref{eq:10}) and (\\ref{eq:20})"
   ]
  },
  {
   "cell_type": "markdown",
   "metadata": {},
   "source": [
    "$x=9$"
   ]
  },
  {
   "cell_type": "markdown",
   "metadata": {},
   "source": [
    "<section class=\"toc\">\n",
    "\n",
    "## h2\n",
    "    \n",
    "1. words  \n",
    "1. words  \n",
    "1. words  \n",
    "\n",
    "    \n",
    "</section>"
   ]
  },
  {
   "cell_type": "markdown",
   "metadata": {},
   "source": [
    "0123456789"
   ]
  },
  {
   "cell_type": "code",
   "execution_count": null,
   "metadata": {},
   "outputs": [],
   "source": []
  },
  {
   "cell_type": "markdown",
   "metadata": {},
   "source": [
    "\\begin{equation}\n",
    "\\cancel{x^5} \\qquad \\ce{H2O}\n",
    "\\end{equation}"
   ]
  },
  {
   "cell_type": "markdown",
   "metadata": {},
   "source": [
    "\\begin{equation}\n",
    "x^5 \\qquad \\ce{H2O}\n",
    "\\end{equation}\n"
   ]
  },
  {
   "cell_type": "markdown",
   "metadata": {},
   "source": [
    "### six\n",
    "\n",
    "\\begin{equation}\n",
    "x^5 \\qquad \\ce{H2O} \\label{eq:oneone}\n",
    "\\end{equation}\n"
   ]
  },
  {
   "cell_type": "markdown",
   "metadata": {},
   "source": [
    "If you make an error in your $\\LaTeX$ source, \n",
    "\n",
    "```latex \n",
    "\\begin{equaton}\n",
    "  x^5 \\qquad \\ce{H2O}\n",
    "\\end{equation}\n",
    "```\n",
    "Renders as\n",
    "\n",
    "\\begin{equaton}\n",
    "  x^5 \\qquad \\ce{H2O}\n",
    "\\end{equation}\n"
   ]
  },
  {
   "cell_type": "markdown",
   "metadata": {},
   "source": [
    "\\begin{equation}\n",
    "x^5 \\qquad \\ce{H2O}\n",
    "\\end{equation}\n"
   ]
  },
  {
   "cell_type": "markdown",
   "metadata": {},
   "source": [
    "\\begin{equation}\n",
    "x^5 \\qquad \\ce{H2O}\n",
    "\\end{equation}\n"
   ]
  },
  {
   "cell_type": "markdown",
   "metadata": {},
   "source": [
    "# te noe\n",
    "\n",
    "$\\begin{equation}\n",
    "x^5 \\qquad \\ce{H2O}\n",
    "\\end{equation}\n",
    "$\n"
   ]
  },
  {
   "cell_type": "markdown",
   "metadata": {},
   "source": [
    "\\begin{equation}\n",
    "x^5 \\qquad \\ce{H2O}\n",
    "\\end{equation}\n"
   ]
  },
  {
   "cell_type": "markdown",
   "metadata": {},
   "source": [
    "\\begin{equation}\n",
    "x^5 \\qquad \\ce{H2O}\n",
    "\\end{equation}\n"
   ]
  },
  {
   "cell_type": "markdown",
   "metadata": {},
   "source": [
    "\\begin{equation}\n",
    "x^5 \\qquad \\ce{H2O}\n",
    "\\end{equation}\n"
   ]
  },
  {
   "cell_type": "markdown",
   "metadata": {},
   "source": [
    "this thing was in eqn($\\ref{eq:oneone}$)"
   ]
  },
  {
   "cell_type": "markdown",
   "metadata": {},
   "source": [
    "<header class=\"index\">\n",
    "<div class=\"index\">\n",
    "  <div><img title=\"Julia logo\" src=\"figures/julia-logo-color.svg\" alt=\"Julia animated logo\" width=35 /></div>\n",
    "  <div><img title=\"Powered by Python\" src=\"https://www.python.org/static/community_logos/python-logo-inkscape.svg\" alt=\"Powered by Python\" width=85 /></div>\n",
    "  <div><img title=\"R Logo\" src=\"https://www.r-project.org/logo/Rlogo.svg\" alt=\"R Logo\" width=25 /></div>\n",
    "  <div>${\\normalsize\\LaTeX}$</div>\n",
    "  <div><img title=\"Powered by MathJax\" src=\"https://www.mathjax.org/badge/mj-logo.svg\" alt=\"Powered by MathJax\" width=65 /></div>\n",
    "</div>\n",
    "</header>\n",
    "$$$$"
   ]
  }
 ],
 "metadata": {
  "kernelspec": {
   "display_name": "Julia 1.5.2",
   "language": "julia",
   "name": "julia-1.5"
  },
  "language_info": {
   "file_extension": ".jl",
   "mimetype": "application/julia",
   "name": "julia",
   "version": "1.5.2"
  }
 },
 "nbformat": 4,
 "nbformat_minor": 4
}
