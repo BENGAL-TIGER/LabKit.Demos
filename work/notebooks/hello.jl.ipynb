{
 "cells": [
  {
   "cell_type": "markdown",
   "metadata": {},
   "source": [
    "## Hi, I'm Julia"
   ]
  },
  {
   "cell_type": "markdown",
   "metadata": {},
   "source": [
    "An insulated, rigid tank whose volume is 0.5 m³ is connected by a valve to a large vessel holding steam at 40 bar, 500°C. The tank is initially evacuated. The valve is opened only as long as required to fill the tank with steam to a pressure of 20 bar. Determine the final temperature of the steam in the tank, in °C, and the final mass of the steam in the tank, in kg.\n"
   ]
  },
  {
   "cell_type": "markdown",
   "metadata": {},
   "source": [
    "\\begin{array}{c}\n",
    "m_{in} &-& m_{out} &=& \\Delta m_{sys} \\\\\n",
    "m_{in} &-&         &=& m_2 - m_1 \\\\[24pt]\n",
    "E_{in} &-& E_{out} &=& \\Delta E_{sys} \\\\\n",
    "m_{in}h_{in}   &&         &=& U_2 - U_1 \\\\\n",
    "&&&=& m_2u_2 - m_1u_1\n",
    "\\end{array}"
   ]
  },
  {
   "cell_type": "markdown",
   "metadata": {},
   "source": [
    "$$ h_{in} = u_2 $$"
   ]
  },
  {
   "cell_type": "code",
   "execution_count": null,
   "metadata": {},
   "outputs": [],
   "source": []
  },
  {
   "cell_type": "code",
   "execution_count": 3,
   "metadata": {},
   "outputs": [
    {
     "data": {
      "text/plain": [
       "3.446021763628236e6 J kg^-1"
      ]
     },
     "execution_count": 3,
     "metadata": {},
     "output_type": "execute_result"
    }
   ],
   "source": [
    "using Unitful, CoolProp\n",
    "\n",
    "P_in = 40u\"bar\"\n",
    "T_in = 500u\"°C\"\n",
    "\n",
    "h_in = PropsSI(\"H\",\"P\",P_in,\"T\",T_in,\"water\")"
   ]
  },
  {
   "cell_type": "code",
   "execution_count": null,
   "metadata": {},
   "outputs": [],
   "source": [
    "u2 = "
   ]
  }
 ],
 "metadata": {
  "kernelspec": {
   "display_name": "Julia 1.5.1",
   "language": "julia",
   "name": "julia-1.5"
  },
  "language_info": {
   "file_extension": ".jl",
   "mimetype": "application/julia",
   "name": "julia",
   "version": "1.5.1"
  }
 },
 "nbformat": 4,
 "nbformat_minor": 4
}
