{
 "cells": [
  {
   "cell_type": "markdown",
   "metadata": {},
   "source": [
    "<header class=\"banner\"><div class=\"banner\">\n",
    "  <div class=\"logos\">\n",
    "    <div><img title=\"Julia logo\" src=\"https://raw.githubusercontent.com/JuliaLang/julia-logo-graphics/b5551ca7946b4a25746c045c15fbb8806610f8d0/images/julia-logo-color.svg\" alt=\"Julia color logo\" width=30 /></div>\n",
    "<!--     <div>◌</div> -->\n",
    "<!--     <div><img title=\"Powered by MathJax\" src=\"https://www.mathjax.org/badge/mj-logo.svg\"\n",
    "              alt=\"Powered by MathJax\" width=60 />\n",
    "    </div> -->\n",
    "  </div>  <!-- logos -->\n",
    "  <div class=\"cite_textbook cb8\">7.032 <span class=\"authors\"></span></div>\n",
    "</div></header>\n"
   ]
  },
  {
   "cell_type": "markdown",
   "metadata": {},
   "source": [
    "A rigid tank is divided into two equal parts by a partition. One part of the tank contains 1.5 kg of compressed liquid water at 300 kPa and 60 °C while the other part is evacuated. The partition is now removed, and the water expands to fill other the entire tank. Determine the entropy change of water during this process, if the final pressure in the tank is 15 kPa.\n",
    "\n",
    "----"
   ]
  },
  {
   "cell_type": "markdown",
   "metadata": {},
   "source": [
    "### Given \n",
    "\n",
    "\n",
    "$ \\quad \\pu{1.5 kg}~\\ce{H2O}: \n",
    "\\quad\n",
    "{\\large\\text{①}} \\quad\n",
    "\\left.\n",
    "\\begin{split}\n",
    "P &= \\pu{300 kPa} \\\\\n",
    "T &= \\pu{60°C}\n",
    "\\end{split}\n",
    "\\right\\}\n",
    "\\longrightarrow\n",
    "\\left\\{\n",
    "\\begin{split}\n",
    "P &= \\pu{15 kPa} \\\\\n",
    "V_2 &= 2V_1\n",
    "\\end{split}\n",
    "\\right. \\quad\n",
    "{\\large\\text{②}}\n",
    "$\n",
    "\n",
    "### Find\n",
    "\n",
    "$\\quad \\Delta s_\\ce{H2O}$"
   ]
  },
  {
   "cell_type": "markdown",
   "metadata": {},
   "source": [
    "### Get organized\n",
    "\n",
    "As always, we assess the situation. This one appears to be a simple change of properties between two states, but we do a full examination, anyway. History is littered with disastrous engineering failures that occurred because some species or effect was incorrectly assumed to be negligible.  \n",
    "\n",
    "1. Action: Volume doubles with constant mass: $~\\therefore v_2 =2v_1$\n",
    "1. Mass: Closed system, no change\n",
    "1. Momentum: No effect\n",
    "1. Energy:  \n",
    "   1. Constant volume, no devices: ∴ no work interaction\n",
    "   1. We are given no information we can use to determine heat exchange between the system and surroundings, so we are stuck with assuming the system is adiabatic.\n",
    "   1. Nothing about motion, depth/elevation:  ∴ ΔKE ≅ ΔPE = 0  \n",
    "1. Entropy: No dead state given. No heat transfer. We are left with only the change in properties. \n",
    "\n",
    "### Assumptions\n",
    "\n",
    "There's nothing wrong with summarizing your assumptions to keep them clear and visible. The less you make yourself remember, the better your solution will be. More importantly, clarity invites review; clutter invites scrutiny.\n",
    "\n",
    "1. W = Q = 0, \n",
    "1. ΔKE ≅ ΔPE = 0"
   ]
  },
  {
   "cell_type": "markdown",
   "metadata": {},
   "source": [
    "## Attack\n",
    "\n",
    "Introducing two of my favorite things: Unitful.jl and CoolProp.jl  "
   ]
  },
  {
   "cell_type": "code",
   "execution_count": 1,
   "metadata": {},
   "outputs": [
    {
     "name": "stderr",
     "output_type": "stream",
     "text": [
      "┌ Info: Precompiling CoolProp [e084ae63-2819-5025-826e-f8e611a84251]\n",
      "└ @ Base loading.jl:1278\n"
     ]
    }
   ],
   "source": [
    "using Unitful, CoolProp"
   ]
  },
  {
   "cell_type": "code",
   "execution_count": 2,
   "metadata": {},
   "outputs": [
    {
     "name": "stdout",
     "output_type": "stream",
     "text": [
      "v₁ = 0.0010170014930208453 m^3 kg^-1\n",
      "s₁ = 831.1440759233928 J kg^-1 K^-1\n",
      "s₂ = 755.6028027733848 J kg^-1 K^-1\n",
      "\n",
      "Δs = s₂ - s₁ = -75.54127315000801 J kg^-1 K^-1\n"
     ]
    }
   ],
   "source": [
    "#_____________________________________________________________________________80____5____0\n",
    "\n",
    "#__ given \n",
    "P₁ = 300u\"kPa\"\n",
    "T₁ =  60u\"°C\"\n",
    "P₂ =  15u\"kPa\"\n",
    "\n",
    "#__ find v₂ = 2v₁. \n",
    "v₁ = 1/PropsSI(\"D\",\"P\",P₁,\"T\",T₁,\"water\"); @show v₁  # CoolProp knows ρ, not v\n",
    "v₂ = 2 * v₁\n",
    "\n",
    "#__ find s₁, s₂\n",
    "s₁ = PropsSI(\"S\",\"P\",P₁,\"T\", T₁ ,\"water\"); @show s₁\n",
    "s₂ = PropsSI(\"S\",\"P\",P₂,\"D\",1/v₂,\"water\"); @show s₂\n",
    "Δs = s₂ - s₁\n",
    "\n",
    "println()\n",
    "@show Δs = s₂ - s₁;"
   ]
  },
  {
   "cell_type": "markdown",
   "metadata": {},
   "source": [
    "   "
   ]
  },
  {
   "cell_type": "markdown",
   "metadata": {},
   "source": [
    "<div class=\"btn-primary\">&nbsp;<div class=\"badge\"></div><i class=\"fa fa-exclamation-circle\"></i><strong>\n",
    "Sidebar: Julia bits\n",
    "</strong></div>\n",
    "<div class=\"alert alert-primary\" role=\"alert\">\n",
    "\n",
    "1. Julia allows most of the Unicode character set for variable names. \n",
    "   \n",
    "  These are all valid: \n",
    "    \n",
    "    <div class=\"transcode\" >\n",
    "    \n",
    "    ```julia         \n",
    "    V₂_ft³ = 20 \n",
    "    𝑣₁_ft³lbm⁻¹ = 44 \n",
    "    Δ𝑓h⁰298_Al₂O₃ = -1675.700 \n",
    "        \n",
    "    ```    \n",
    "        \n",
    "    </div><br>\n",
    "    \n",
    "1. Julia does not require a semicolon to end a statement, but there's no penalty for including one. \n",
    "   1. By default, Julia *does* show the output of the last statement in a block; an ending semicolon suppresses that behavior. \n",
    "   1. Use semicolons to separate statements on the same line.\n",
    "   1. The chaining operator <code style=\"color:#aa21ff;background-color: rgba(255,255,255,0.45);\">|></code> sends the output of the preceding function to the input of the following one.\n",
    "\n",
    "    <div class=\"transcode\">\n",
    "\n",
    "    ```julia  \n",
    "    121 |> sqrt\n",
    "    11.0\n",
    "    ``` \n",
    "        \n",
    "    </div><br>  \n",
    "        \n",
    "    Look below: chaining is **very** helpful when used with Unitful.\n",
    "\n",
    "</div>"
   ]
  },
  {
   "cell_type": "code",
   "execution_count": 3,
   "metadata": {},
   "outputs": [
    {
     "name": "stdout",
     "output_type": "stream",
     "text": [
      "T₂ = 327.119312902895 K\n",
      "\n",
      "T₂ |> u\"°C\" = 53.96931290289501 °C\n",
      "T₂ |> u\"°F\" = 129.14476322521097 °F\n",
      "T₂ |> u\"Ra\" = 588.814763225211 Ra\n"
     ]
    }
   ],
   "source": [
    "# Chaining with Unitful\n",
    "\n",
    "T₂ = PropsSI(\"T\",\"P\",P₂,\"D\",1/v₂,\"water\")\n",
    "\n",
    "@show T₂ \n",
    "println()\n",
    "@show T₂ |> u\"°C\" \n",
    "@show T₂ |> u\"°F\" \n",
    "@show T₂ |> u\"Ra\"\n",
    ";"
   ]
  },
  {
   "cell_type": "code",
   "execution_count": null,
   "metadata": {},
   "outputs": [],
   "source": []
  }
 ],
 "metadata": {
  "@webio": {
   "lastCommId": null,
   "lastKernelId": null
  },
  "kernelspec": {
   "display_name": "Julia 1.5.2",
   "language": "julia",
   "name": "julia-1.5"
  },
  "language_info": {
   "file_extension": ".jl",
   "mimetype": "application/julia",
   "name": "julia",
   "version": "1.5.2"
  }
 },
 "nbformat": 4,
 "nbformat_minor": 4
}
