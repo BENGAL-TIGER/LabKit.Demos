{
 "cells": [
  {
   "cell_type": "markdown",
   "metadata": {},
   "source": [
    "A rigid tank is divided into two equal parts by a partition. One part of the tank contains 1.5 kg of compressed liquid water at 300 kPa and 60 °C while the other part is evacuated. The partition is now removed, and the water expands to fill other the entire tank. Determine the entropy change of water during this process, if the final pressure in the tank is 15 kPa.\n",
    "\n",
    "----\n",
    "\n",
    "### Given $\\require{mhchem}$\n",
    "\n",
    "1.5 kg $\\ce{H2O}:  \n",
    "\\quad\\begin{equation}\n",
    "{\\large\\text{①}}\n",
    "\\left.\n",
    "\\begin{split}\n",
    "P &= \\pu{300 kPa} \\\\\n",
    "T &= \\pu{60°C}\n",
    "\\end{split}\n",
    "\\right\\}\n",
    "\\longrightarrow\n",
    "\\left\\{\n",
    "\\begin{split}\n",
    "P &= \\pu{15 kPa} \\\\\n",
    "V_2 &= 2V_1\n",
    "\\end{split}\n",
    "\\right.\n",
    "{\\large\\text{②}}\n",
    "\\end{equation}\n",
    "$\n",
    "\n",
    "### Find\n",
    "\n",
    "$\\Delta s_\\ce{H2O}$"
   ]
  },
  {
   "cell_type": "markdown",
   "metadata": {},
   "source": [
    "### Get organized\n",
    "\n",
    "As always, we assess the situation. This one appears to be a simple change of properties between two states, but we do a full examination, anyway. History is littered with disastrous engineering failures that occurred because some species or effect was incorrectly assumed to be negligible.  \n",
    "\n",
    "1. Action: Volume doubles with constant mass: $~\\therefore v_2 =2v_1$\n",
    "1. Mass: Closed system, no change\n",
    "1. Momentum: No effect\n",
    "1. Energy:  \n",
    "   1. Constant volume, no devices: ∴ no work interaction\n",
    "   1. We are given no information we can use to determine heat exchange between the system and surroundings, so we are stuck with assuming the system is adiabatic.\n",
    "   1. Nothing about motion, depth/elevation:  ∴ ΔKE ≅ ΔPE = 0  \n",
    "1. Entropy: No dead state given. No heat transfer. We are left with only the change in properties. \n",
    "\n",
    "#### Assumptions\n",
    "\n",
    "There's nothing wrong with summarizing your assumptions to keep them clear and visible. The less you make yourself remember, the better your solution will be. More importantly, clarity invites review; clutter invites scrutiny.\n",
    "\n",
    "1. W = Q = 0, \n",
    "1. ΔKE ≅ ΔPE = 0"
   ]
  },
  {
   "cell_type": "markdown",
   "metadata": {},
   "source": [
    "## Attack\n",
    "\n",
    "Introducing two of my favorite things: Unitful.jl and CoolProp.jl  "
   ]
  },
  {
   "cell_type": "code",
   "execution_count": 1,
   "metadata": {},
   "outputs": [],
   "source": [
    "using Unitful, CoolProp\n",
    "\n",
    "ENV[\"UNITFUL_FANCY_EXPONENTS\"] = true;"
   ]
  },
  {
   "cell_type": "code",
   "execution_count": 2,
   "metadata": {},
   "outputs": [
    {
     "name": "stdout",
     "output_type": "stream",
     "text": [
      "v₁ = 0.0010170014930208453 m^3 kg^-1\n",
      "s₁ = 831.1440759233928 J kg^-1 K^-1\n",
      "s₂ = 755.6028027733848 J kg^-1 K^-1\n",
      "\n",
      "Δs = s₂ - s₁ = -75.54127315000801 J kg^-1 K^-1\n"
     ]
    }
   ],
   "source": [
    "#_____________________________________________________________________________80____5____0\n",
    "\n",
    "#__ given \n",
    "P₁ = 300u\"kPa\"\n",
    "T₁ =  60u\"°C\"\n",
    "P₂ =  15u\"kPa\"\n",
    "\n",
    "#__ find v₂ = 2v₁. \n",
    "v₁ = 1/PropsSI(\"D\",\"P\",P₁,\"T\",T₁,\"water\"); @show v₁  # CoolProp knows ρ, not v\n",
    "v₂ = 2 * v₁\n",
    "\n",
    "#__ find s₁, s₂\n",
    "s₁ = PropsSI(\"S\",\"P\",P₁,\"T\", T₁ ,\"water\"); @show s₁\n",
    "s₂ = PropsSI(\"S\",\"P\",P₂,\"D\",1/v₂,\"water\"); @show s₂\n",
    "Δs = s₂ - s₁\n",
    "\n",
    "println()\n",
    "@show Δs = s₂ - s₁;"
   ]
  },
  {
   "cell_type": "markdown",
   "metadata": {},
   "source": [
    "### What ifs?"
   ]
  },
  {
   "cell_type": "code",
   "execution_count": 3,
   "metadata": {},
   "outputs": [
    {
     "data": {
      "text/plain": [
       "327.119312902895 K"
      ]
     },
     "execution_count": 3,
     "metadata": {},
     "output_type": "execute_result"
    }
   ],
   "source": [
    "T₂ = PropsSI(\"T\",\"P\",P₂,\"D\",1/v₂,\"water\")"
   ]
  },
  {
   "cell_type": "code",
   "execution_count": 4,
   "metadata": {},
   "outputs": [
    {
     "data": {
      "text/plain": [
       "53.96931290289501 °C"
      ]
     },
     "execution_count": 4,
     "metadata": {},
     "output_type": "execute_result"
    }
   ],
   "source": [
    "T₂ |> u\"°C\""
   ]
  },
  {
   "cell_type": "code",
   "execution_count": null,
   "metadata": {},
   "outputs": [],
   "source": []
  }
 ],
 "metadata": {
  "@webio": {
   "lastCommId": null,
   "lastKernelId": null
  },
  "kernelspec": {
   "display_name": "Julia 1.5.1",
   "language": "julia",
   "name": "julia-1.5"
  },
  "language_info": {
   "file_extension": ".jl",
   "mimetype": "application/julia",
   "name": "julia",
   "version": "1.5.1"
  }
 },
 "nbformat": 4,
 "nbformat_minor": 4
}
